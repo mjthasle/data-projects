{
 "cells": [
  {
   "cell_type": "code",
   "execution_count": 103,
   "metadata": {},
   "outputs": [],
   "source": [
    "import numpy as np"
   ]
  },
  {
   "cell_type": "code",
   "execution_count": 104,
   "metadata": {},
   "outputs": [],
   "source": [
    "def choose(n, r):\n",
    "    if n < r:\n",
    "        return 0\n",
    "    else:\n",
    "        return np.math.factorial(n)/(np.math.factorial(r)*np.math.factorial(n - r))"
   ]
  },
  {
   "cell_type": "markdown",
   "metadata": {},
   "source": [
    "# Binomial Distribution Values"
   ]
  },
  {
   "cell_type": "markdown",
   "metadata": {},
   "source": [
    "If $Y$ is a binomial random variable, `binomial(n, p, y)` returns $P(Y=y)={n \\choose y}p^y(1-p)^{n-y}$ and `rangebinomial(n, p, a, b)` returns $P(a\\leq Y\\leq b)$."
   ]
  },
  {
   "cell_type": "code",
   "execution_count": 84,
   "metadata": {},
   "outputs": [],
   "source": [
    "def binomial(n, p, y):\n",
    "    if y > n:\n",
    "        print(\"Error: y must not be greater than n\")\n",
    "    else:\n",
    "        return choose(n, y)*p**y*(1 - p)**(n - y)\n",
    "\n",
    "def rangebinomial(n, p, a, b):\n",
    "    n, p, a, b = int(n), float(p), int(a), int(b)\n",
    "    if a <= b:\n",
    "        c = [binomial(n, p, z) for z in range(a, b + 1)]\n",
    "        return sum(c)\n",
    "    else:\n",
    "        print(\"Error: need a<=b.\")"
   ]
  },
  {
   "cell_type": "code",
   "execution_count": 85,
   "metadata": {},
   "outputs": [
    {
     "name": "stdout",
     "output_type": "stream",
     "text": [
      "Enter the number of trials:20\n",
      "Enter the probability of success:0.5\n",
      "Enter the lower bound:3\n",
      "Enter the upper bound:12\n",
      "0.8682107925415039\n"
     ]
    }
   ],
   "source": [
    "n = input(\"Enter the number of trials:\")\n",
    "p = input(\"Enter the probability of success:\")\n",
    "a = input(\"Enter the lower bound:\")\n",
    "b = input(\"Enter the upper bound:\")\n",
    "\n",
    "print(rangebinomial(n, p, a, b))"
   ]
  },
  {
   "cell_type": "markdown",
   "metadata": {},
   "source": [
    "# Geometric Distribution Values"
   ]
  },
  {
   "cell_type": "markdown",
   "metadata": {},
   "source": [
    "If $Y$ is a geometric random variable, `geometric(p, y)` returns $P(Y=y)=p(1-p)^{y-1}$ and `rangegeometric(p, a, b)` returns $P(a\\leq Y\\leq b)$."
   ]
  },
  {
   "cell_type": "code",
   "execution_count": 86,
   "metadata": {},
   "outputs": [],
   "source": [
    "def geometric(p, y):\n",
    "    return p*(1 - p)**(y - 1)\n",
    "\n",
    "def rangegeometric(p, a, b):\n",
    "    p, a, b = float(p), int(a), int(b)\n",
    "    if a <= b:\n",
    "        c = [geometric(p, z) for z in range(a, b + 1)]\n",
    "        return sum(c)\n",
    "    else:\n",
    "        print(\"Error: a cannot be greater than b.\")"
   ]
  },
  {
   "cell_type": "code",
   "execution_count": 87,
   "metadata": {},
   "outputs": [
    {
     "name": "stdout",
     "output_type": "stream",
     "text": [
      "Enter the probability of success:0.5\n",
      "Enter the lower bound (greater than or equal to 1):3\n",
      "Enter the upper bound (greater than or equal to the lower bound):4\n",
      "0.1875\n"
     ]
    }
   ],
   "source": [
    "p = input(\"Enter the probability of success:\")\n",
    "a = input(\"Enter the lower bound:\")\n",
    "b = input(\"Enter the upper bound:\")\n",
    "\n",
    "print(rangegeometric(p, a, b))"
   ]
  },
  {
   "cell_type": "markdown",
   "metadata": {},
   "source": [
    "# Hypergeometric Distribution"
   ]
  },
  {
   "cell_type": "markdown",
   "metadata": {},
   "source": [
    "If $Y$ is a hypergeometric random variable, `hypergeometric(N, n, r, y)` returns $P(Y=y)=\\frac{{r \\choose y}{N-r \\choose n-y}}{{N \\choose n}}$ and `rangehypergeometric(N, n, r, a, b)` returns $P(a\\leq Y\\leq b)$."
   ]
  },
  {
   "cell_type": "code",
   "execution_count": 105,
   "metadata": {},
   "outputs": [],
   "source": [
    "def hypergeometric(N, n, r, y):\n",
    "    if y > r or n - y > N - r:\n",
    "        print(\"Error\")\n",
    "    else:\n",
    "        return (choose(r, y)*choose(N - r, n - y))/choose(N, n)\n",
    "\n",
    "def rangehypergeometric(N, n, r, a, b):\n",
    "    N, n, r, a, b = int(N), int(n), int(r), int(a), int(b)\n",
    "    if a <= b:\n",
    "        c = [hypergeometric(N, n, r, z) for z in range(a, b + 1)]\n",
    "        return sum(c)\n",
    "    else:\n",
    "        print(\"Error: need a<=b.\")"
   ]
  },
  {
   "cell_type": "code",
   "execution_count": 107,
   "metadata": {},
   "outputs": [
    {
     "name": "stdout",
     "output_type": "stream",
     "text": [
      "Enter the total population:20\n",
      "Enter the sample size:10\n",
      "Enter the number of one of the two groups:15\n",
      "Enter the lower bound (greater than or equal to 0):7\n",
      "Enter the upper bound (greater than or equal to N):9\n",
      "0.8320433436532508\n"
     ]
    }
   ],
   "source": [
    "N = input(\"Enter the total population:\")\n",
    "n = input(\"Enter the sample size:\")\n",
    "r = input(\"Enter the number of one of the two groups:\")\n",
    "a = input(\"Enter the lower bound:\")\n",
    "b = input(\"Enter the upper bound:\")\n",
    "\n",
    "print(rangehypergeometric(N, n, r, a, b))"
   ]
  },
  {
   "cell_type": "markdown",
   "metadata": {},
   "source": [
    "# Poisson Distribution Values"
   ]
  },
  {
   "cell_type": "markdown",
   "metadata": {},
   "source": [
    "If $Y$ is a Poisson random variable with parameter $\\lambda$, `poisson(l, y)` returns $P(Y=y)=\\frac{\\lambda^y}{y!}e^{-\\lambda}$ and `rangepoisson(l, a, b)` returns $P(a\\leq Y\\leq b)$."
   ]
  },
  {
   "cell_type": "code",
   "execution_count": 115,
   "metadata": {},
   "outputs": [],
   "source": [
    "def poisson(l, y):\n",
    "    return (l**y*np.exp(-l))/np.math.factorial(y)\n",
    "\n",
    "def rangepoisson(l, a, b):\n",
    "    l, a, b = float(l), int(a), int(b)\n",
    "    if a <= b:\n",
    "        c = [poisson(l, z) for z in range(a, b + 1)]\n",
    "        return sum(c)\n",
    "    else:\n",
    "        print(\"Error: a cannot be greater than b.\")"
   ]
  },
  {
   "cell_type": "code",
   "execution_count": 118,
   "metadata": {},
   "outputs": [
    {
     "name": "stdout",
     "output_type": "stream",
     "text": [
      "Enter the value of lambda:7.8\n",
      "Enter the lower bound (greater than or equal to 1):0\n",
      "Enter the upper bound (greater than or equal to the lower bound):6\n",
      "0.33840687452195134\n"
     ]
    }
   ],
   "source": [
    "l = input(\"Enter the value of lambda:\")\n",
    "a = input(\"Enter the lower bound (greater than or equal to 1):\")\n",
    "b = input(\"Enter the upper bound (greater than or equal to the lower bound):\")\n",
    "\n",
    "print(rangepoisson(l, a, b))"
   ]
  }
 ],
 "metadata": {
  "kernelspec": {
   "display_name": "Python 3",
   "language": "python",
   "name": "python3"
  },
  "language_info": {
   "codemirror_mode": {
    "name": "ipython",
    "version": 3
   },
   "file_extension": ".py",
   "mimetype": "text/x-python",
   "name": "python",
   "nbconvert_exporter": "python",
   "pygments_lexer": "ipython3",
   "version": "3.8.5"
  }
 },
 "nbformat": 4,
 "nbformat_minor": 4
}

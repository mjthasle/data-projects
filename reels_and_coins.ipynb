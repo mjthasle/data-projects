{
 "cells": [
  {
   "cell_type": "markdown",
   "metadata": {},
   "source": [
    "The cell below contains a simulation of a three reel slot machine. Each of the three reels contain a total of 72 symbols, and one reel has one '7' symbol, another has two '7' symbols, and the third has three '7'symbols. Above each of the three reels is a seven-segment bonus meter. Whenever a bonus 7 symbol lands on a reel it contributes to the bonus meter for its reel, increasing it by one. On a spin where all seven segments on all three reels are filled, the player is awarded a bonus of 200 coins and the bonus feature ends. All three meters are reset to zero for the next spin and a new bonus feature begins. If a 7 lands on a reel whose meter is full but the other meters are not completed, the player is awarded a bonus of 2 coins for that reel and the bonus feature continues.\n",
    "\n",
    "The purpose of the program is to collect sample means for the number of spins needed to complete a bonus feature, and the number of coins won before the bonus feature ends. The number of desired sample means and the sample size is requested from the user, and the program returns the mean, standard deviation, and a histogram of both distributions."
   ]
  },
  {
   "cell_type": "code",
   "execution_count": 1,
   "metadata": {},
   "outputs": [
    {
     "name": "stdout",
     "output_type": "stream",
     "text": [
      "Enter the number of sample means to be collected: 50000\n",
      "Enter the sample size, that is, the number of bonus features: 5\n",
      "The average number of spins from these samples is 512.57854 with standard deviation 80.67814568684881\n",
      "The average number of coins from these samples is 43.420488 with standard deviation 12.132783070749102\n"
     ]
    },
    {
     "data": {
      "image/png": "[encoded data removed]",
      "text/plain": [
       "<Figure size 1152x360 with 2 Axes>"
      ]
     },
     "metadata": {
      "needs_background": "light"
     },
     "output_type": "display_data"
    }
   ],
   "source": [
    "import random\n",
    "import numpy as np\n",
    "import matplotlib.pyplot as plt\n",
    "\n",
    "reel1 = 3*['7'] + 69*['0']\n",
    "reel2 = 2*['7'] + 70*['0']\n",
    "reel3 = ['7'] + 71*['0']\n",
    "meter1, meter2, meter3 = 0, 0, 0\n",
    "spins_sample_means = []\n",
    "coins_sample_means = []\n",
    "\n",
    "n = int(input('Enter the number of sample means to be collected: '))\n",
    "k = int(input('Enter the sample size, that is, the number of bonus features: '))\n",
    "\n",
    "for j in range(n): #number of sample means\n",
    "    spins_samples = []\n",
    "    coins_samples = []\n",
    "    for i in range(k): #sample size\n",
    "        spins = 0\n",
    "        coins = 0\n",
    "        while (meter1, meter2, meter3) != (7, 7, 7):\n",
    "            reel1result = random.choices(reel1)\n",
    "            reel2result = random.choices(reel2)\n",
    "            reel3result = random.choices(reel3)\n",
    "            if reel1result == ['7']:\n",
    "                if meter1 < 7:\n",
    "                    meter1 += 1\n",
    "                else:\n",
    "                    coins += 2\n",
    "            if reel2result == ['7']:\n",
    "                if meter2 < 7:\n",
    "                    meter2 += 1\n",
    "                else:\n",
    "                    coins += 2\n",
    "            if reel3result == ['7']:\n",
    "                if meter3 < 7:\n",
    "                    meter3 += 1\n",
    "                else:\n",
    "                    coins += 2\n",
    "            spins += 1\n",
    "        coins_samples += [coins]\n",
    "        spins_samples += [spins]\n",
    "        meter1, meter2, meter3 = 0, 0, 0\n",
    "    spins_sample_means += [np.mean(np.array(spins_samples))]\n",
    "    coins_sample_means += [np.mean(np.array(coins_samples))]\n",
    "\n",
    "plt.rcParams['figure.figsize'] = (16,5)\n",
    "\n",
    "fig, ax = plt.subplots(nrows = 1, ncols = 2)\n",
    "ax[0].hist(np.array(spins_sample_means),\n",
    "           bins = 50,\n",
    "           density = True,\n",
    "           alpha = 0.3,\n",
    "           color = 'b',\n",
    "           edgecolor = 'k')\n",
    "ax[0].set_title('Sample means for spins needed to complete a bonus feature')\n",
    "ax[1].hist(np.array(coins_sample_means),\n",
    "           bins = 50,\n",
    "           density = True,\n",
    "           alpha = 0.3,\n",
    "           color = 'b',\n",
    "           edgecolor = 'k')\n",
    "ax[1].set_title('Sample means for coins won during a bonus feature')\n",
    "print('The average number of spins from these samples is ' + str(np.mean(np.array(spins_sample_means))) +\n",
    "      ' with standard deviation ' + str(np.std(np.array(spins_sample_means))))\n",
    "print('The average number of coins from these samples is ' + str(np.mean(np.array(coins_sample_means))) +\n",
    "      ' with standard deviation ' + str(np.std(np.array(coins_sample_means))))"
   ]
  }
 ],
 "metadata": {
  "kernelspec": {
   "display_name": "Python 3",
   "language": "python",
   "name": "python3"
  },
  "language_info": {
   "codemirror_mode": {
    "name": "ipython",
    "version": 3
   },
   "file_extension": ".py",
   "mimetype": "text/x-python",
   "name": "python",
   "nbconvert_exporter": "python",
   "pygments_lexer": "ipython3",
   "version": "3.8.5"
  }
 },
 "nbformat": 4,
 "nbformat_minor": 4
}
